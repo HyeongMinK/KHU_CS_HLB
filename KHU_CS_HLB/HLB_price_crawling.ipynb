{
 "cells": [
  {
   "cell_type": "code",
   "execution_count": 1,
   "metadata": {},
   "outputs": [],
   "source": [
    "import re\n",
    "import requests\n",
    "import pandas as pd\n",
    "from io import StringIO\n",
    "from FinanceDataReader._utils import (_convert_letter_to_num, _validate_dates)"
   ]
  },
  {
   "cell_type": "code",
   "execution_count": 12,
   "metadata": {},
   "outputs": [
    {
     "name": "stdout",
     "output_type": "stream",
     "text": [
      "             Open   High    Low  Close   Volume    Change\n",
      "Date                                                     \n",
      "2020-01-02  46566  46687  45054  45495  2658091  0.055397\n",
      "2020-01-03  45772  45812  42587  43187  3915498  0.083902\n",
      "2020-01-06  41512  45891  41074  42311  5247018  0.052486\n",
      "2020-01-07  42786  44220  42229  43544  2190296  0.022424\n",
      "2020-01-08  42707  43264  40398  40639  4183583 -0.111405\n",
      "...           ...    ...    ...    ...      ...       ...\n",
      "2024-06-25  66100  73800  65900  72800  6153731  0.159236\n",
      "2024-06-26  72000  72700  60800  65000  6976235  0.025237\n",
      "2024-06-27  63200  65600  63100  63900  1696469  0.006299\n",
      "2024-06-28  63800  65600  58100  58500  3770235 -0.090202\n",
      "2024-07-01  59400  63800  58500  62600  3064043 -0.051515\n",
      "\n",
      "[1109 rows x 6 columns]\n"
     ]
    }
   ],
   "source": [
    "\n",
    "# HLB 종목코드 : 028300 , 시작일 종료일 지정\n",
    "url = 'https://fchart.stock.naver.com/sise.nhn?timeframe=day&count=6000&requestType=0&symbol=' # url\n",
    "r = requests.get(url + \"028300\") # 종목코드\n",
    "\n",
    "data_list = re.findall('<item data=\\\"(.*?)\\\" />', r.text, re.DOTALL)\n",
    "data = '\\n'.join(data_list)\n",
    "df = pd.read_csv(StringIO(data), delimiter='|', header=None, dtype={0:str})\n",
    "df.columns  = ['Date', 'Open', 'High', 'Low', 'Close', 'Volume']\n",
    "df['Date'] = pd.to_datetime(df['Date'], format='%Y%m%d')\n",
    "df.set_index('Date', inplace=True)\n",
    "df.sort_index(inplace=True)\n",
    "df['Change'] = df['Close'].pct_change(periods=5)\n",
    "result = df.loc['2020-01-01':'2024-07-01'] # 시작일:종료일\n",
    "print(result)"
   ]
  },
  {
   "cell_type": "code",
   "execution_count": 13,
   "metadata": {},
   "outputs": [
    {
     "name": "stdout",
     "output_type": "stream",
     "text": [
      "# 5% 이상 10%미만 급등한 경우 : 121번\n",
      "              Open    High     Low   Close   Volume    Change\n",
      "Date                                                         \n",
      "2020-01-02   46566   46687   45054   45495  2658091  0.055397\n",
      "2020-01-03   45772   45812   42587   43187  3915498  0.083902\n",
      "2020-01-06   41512   45891   41074   42311  5247018  0.052486\n",
      "2020-01-13   44775   45293   43980   44579  1101404  0.053603\n",
      "2020-02-06   39163   43064   39004   41594  2808135  0.082895\n",
      "...            ...     ...     ...     ...      ...       ...\n",
      "2024-04-19   97300  100000   93000  100000  2060066  0.075269\n",
      "2024-04-22  103200  109300  101800  106300  3046455  0.079188\n",
      "2024-06-13   62500   67000   61500   63600  5693263  0.067114\n",
      "2024-06-17   61500   63600   61000   63200  1209337  0.067568\n",
      "2024-06-18   63000   64400   62300   62800  1117297  0.073504\n",
      "\n",
      "[121 rows x 6 columns]\n"
     ]
    }
   ],
   "source": [
    "# 주가 5% 이상 10%미만 급등한 경우 (종가 기준)\n",
    "increasing_5 = result['Change'] >= 0.05\n",
    "below_10 = result['Change'] < 0.1\n",
    "num_case_5 = len(result[increasing_5 & below_10])\n",
    "print(f\"# 5% 이상 10%미만 급등한 경우 : {num_case_5}번\")\n",
    "above_5 = result[increasing_5 & below_10]\n",
    "print(above_5)"
   ]
  },
  {
   "cell_type": "code",
   "execution_count": 14,
   "metadata": {},
   "outputs": [
    {
     "name": "stdout",
     "output_type": "stream",
     "text": [
      "# 10% 이상 급등한 경우 : 125번\n",
      "             Open   High    Low  Close    Volume    Change\n",
      "Date                                                      \n",
      "2020-01-15  44617  45492  44220  45137   1524930  0.110682\n",
      "2020-02-07  41591  42148  40477  40838   1032360  0.106781\n",
      "2020-03-02  38807  39643  37732  38490   1824431  0.117920\n",
      "2020-04-02  37214  38686  36140  38331   4221864  0.103146\n",
      "2020-04-03  38806  39522  37611  38450   3125048  0.129852\n",
      "...           ...    ...    ...    ...       ...       ...\n",
      "2024-05-28  56700  67600  55700  64700  17559460  0.334021\n",
      "2024-05-29  63000  66900  62600  66100   6560217  0.340771\n",
      "2024-05-30  65800  66600  61200  61500   5062564  0.262834\n",
      "2024-05-31  62500  64800  58300  61200   5754591  0.207101\n",
      "2024-06-25  66100  73800  65900  72800   6153731  0.159236\n",
      "\n",
      "[125 rows x 6 columns]\n"
     ]
    }
   ],
   "source": [
    "# 주가 10% 이상 급등한 경우 (종가 기준)\n",
    "increasing_10 = result['Change'] >= 0.1\n",
    "num_case_10 = len(result[increasing_10])\n",
    "print(f\"# 10% 이상 급등한 경우 : {num_case_10}번\")\n",
    "above_10 = result[increasing_10]\n",
    "print(above_10)"
   ]
  },
  {
   "cell_type": "code",
   "execution_count": 5,
   "metadata": {},
   "outputs": [],
   "source": [
    "result.to_csv(\"HLB_price(20.1~24.7).csv\", index= True)"
   ]
  },
  {
   "cell_type": "code",
   "execution_count": 6,
   "metadata": {},
   "outputs": [],
   "source": [
    "above_5.to_csv(\"HLB_above_5.csv\", index=True)\n",
    "above_10.to_csv(\"HLB_above_10.csv\", index=True)"
   ]
  }
 ],
 "metadata": {
  "kernelspec": {
   "display_name": "Python 3",
   "language": "python",
   "name": "python3"
  },
  "language_info": {
   "codemirror_mode": {
    "name": "ipython",
    "version": 3
   },
   "file_extension": ".py",
   "mimetype": "text/x-python",
   "name": "python",
   "nbconvert_exporter": "python",
   "pygments_lexer": "ipython3",
   "version": "3.12.2"
  }
 },
 "nbformat": 4,
 "nbformat_minor": 2
}
